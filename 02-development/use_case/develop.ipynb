{
 "cells": [
  {
   "cell_type": "markdown",
   "id": "7bbd1609",
   "metadata": {},
   "source": [
    "# Initializing the data folder"
   ]
  },
  {
   "cell_type": "code",
   "execution_count": null,
   "id": "1db76f07",
   "metadata": {},
   "outputs": [],
   "source": [
    "from pathlib import Path\n",
    "from dotenv import load_dotenv\n",
    "\n",
    "try:\n",
    "    start = Path(__file__).resolve()\n",
    "except NameError:\n",
    "    start = Path.cwd()\n",
    "\n",
    "supporting_files = next(p / \"00-supporting-files\" for p in start.parents if (p / \"00-supporting-files\").exists())\n",
    "load_dotenv(supporting_files / \"data\" / \"sample.env.file\")\n"
   ]
  },
  {
   "cell_type": "code",
   "execution_count": 6,
   "id": "1704809b",
   "metadata": {},
   "outputs": [
    {
     "data": {
      "text/plain": [
       "'/Users/progressedd/project-template/00-supporting-files'"
      ]
     },
     "execution_count": 6,
     "metadata": {},
     "output_type": "execute_result"
    }
   ],
   "source": [
    "supporting_files"
   ]
  },
  {
   "cell_type": "markdown",
   "id": "78bd2127",
   "metadata": {},
   "source": [
    "## Getting a tree printout of the repository"
   ]
  },
  {
   "cell_type": "code",
   "execution_count": 10,
   "id": "680684fe",
   "metadata": {},
   "outputs": [
    {
     "name": "stdout",
     "output_type": "stream",
     "text": [
      "│   ├── .git/\n",
      "│   │   ├── ... 14 more items: 14 samples\n",
      "│   │   ├── ... 1 more items: 1 no extension\n",
      "│   │   ├── ... 2 more items: 1 folder, 1 no extension\n",
      "│   │   ├── ... 1 more items: 1 folder\n",
      "│   │   ├── ... 19 more items: 19 folders\n",
      "│   │   ├── ... 3 more items: 3 folders\n",
      "│   ├── COMMIT_EDITMSG\n",
      "│   ├── FETCH_HEAD\n",
      "│   ├── HEAD\n",
      "│   ├── config\n",
      "│   ├── description\n",
      "│   └── index\n",
      "│   ├── .venv/\n",
      "│   │   ├── ... 28 more items: 19 no extensions, 3 bats, 1 13, 1 csh, 1 fish, 1 nu, 1 ps1, 1 py\n",
      "│   │   ├── ... 1 more items: 1 folder\n",
      "│   │   ├── ... 1 more items: 1 folder\n",
      "│   │   ├── ... 2 more items: 2 folders\n",
      "│   ├── .gitignore\n",
      "│   ├── CACHEDIR.TAG\n",
      "│   └── pyvenv.cfg\n",
      "│   ├── 00-dev-log/\n",
      "│   └── 00-template.md\n",
      "│   ├── 00-supporting-files/\n",
      "│       ├── ... 1 more items: 1 no extension\n",
      "│   ├── 01-dev-onboarding/\n",
      "│   │   ├── ... 2 more items: 2 mds\n",
      "│   │   ├── ... 3 more items: 2 mds, 1 code-profile\n",
      "│   │   ├── ... 4 more items: 2 tomls, 1 lock, 1 md\n",
      "│   │   ├── ... 1 more items: 1 folder\n",
      "│   ├── .git\n",
      "│   ├── .gitignore\n",
      "│   ├── LICENSE\n",
      "│   └── README.md\n",
      "│   ├── 02-development/\n",
      "│       ├── ... 1 more items: 1 ipynb\n",
      "│   ├── 03-app/\n",
      "│   └── app.py\n",
      "├── .gitignore\n",
      "├── .gitmodules\n",
      "├── .python-version\n",
      "├── README.md\n",
      "├── pyproject.toml\n",
      "└── uv.lock\n"
     ]
    }
   ],
   "source": [
    "from pathlib import Path\n",
    "import os\n",
    "\n",
    "def get_directory_tree(directory_path, level=0, prefix='', max_depth=None):\n",
    "    path = Path(directory_path)\n",
    "    \n",
    "    # Early return if we've reached max depth\n",
    "    if max_depth is not None and level >= max_depth:\n",
    "        # Count files and folders at this level\n",
    "        items = list(path.iterdir())\n",
    "        folders = [item for item in items if item.is_dir()]\n",
    "        files = [item for item in items if item.is_file()]\n",
    "        \n",
    "        # Count file types\n",
    "        file_types = {}\n",
    "        for file in files:\n",
    "            ext = file.suffix.lower() or 'no extension'\n",
    "            file_type = ext[1:] if ext.startswith('.') else ext\n",
    "            file_types[file_type] = file_types.get(file_type, 0) + 1\n",
    "        \n",
    "        # Build summary string\n",
    "        summary_parts = []\n",
    "        if folders:\n",
    "            summary_parts.append(f\"{len(folders)} folder{'s' if len(folders) > 1 else ''}\")\n",
    "        \n",
    "        for file_type, count in sorted(file_types.items(), key=lambda x: x[1], reverse=True):\n",
    "            summary_parts.append(f\"{count} {file_type}{'s' if count > 1 else ''}\")\n",
    "        \n",
    "        summary = \", \".join(summary_parts)\n",
    "        return [f\"{prefix}├── ... {len(items)} more items: {summary}\"]\n",
    "    \n",
    "    result = []\n",
    "    \n",
    "    # Add directory name for non-root directories\n",
    "    if level > 0:\n",
    "        connector = \"└──\" if \"└\" in prefix else \"├──\"\n",
    "        result.append(f\"{prefix}{connector} {path.name}/\")\n",
    "    \n",
    "    # Process all files and subdirectories\n",
    "    items = sorted(path.iterdir(), key=lambda x: (x.is_file(), x.name))\n",
    "    \n",
    "    for i, item in enumerate(items):\n",
    "        is_last = (i == len(items) - 1)\n",
    "        \n",
    "        # Choose the appropriate prefix for the next level\n",
    "        if is_last:\n",
    "            next_prefix = prefix + \"    \"  # space after last item\n",
    "            current_connector = \"└──\"\n",
    "        else:\n",
    "            next_prefix = prefix + \"│   \"  # vertical line for items that have siblings\n",
    "            current_connector = \"├──\"\n",
    "        \n",
    "        if item.is_file():\n",
    "            result.append(f\"{prefix}{current_connector} {item.name}\")\n",
    "        else:\n",
    "            # For directories, recursively process\n",
    "            child_prefix = next_prefix\n",
    "            child_tree = get_directory_tree(item, level+1, child_prefix, max_depth)\n",
    "            result.extend(child_tree)\n",
    "    \n",
    "    return result\n",
    "\n",
    "# Example usage\n",
    "def print_tree(directory, max_depth=None):\n",
    "    tree = get_directory_tree(directory, max_depth=max_depth)\n",
    "    for line in tree:\n",
    "        print(line)\n",
    "\n",
    "# Use with your supporting_files path\n",
    "print_tree(current_dir.parents[1], 2)\n",
    "\n",
    "# Or with depth limit\n",
    "# print_tree(supporting_files, max_depth=2)"
   ]
  },
  {
   "cell_type": "code",
   "execution_count": 12,
   "id": "6e4c3ad7",
   "metadata": {},
   "outputs": [
    {
     "name": "stdout",
     "output_type": "stream",
     "text": [
      "    ├── data/\n",
      "    └── sample.env.file\n"
     ]
    }
   ],
   "source": [
    "print_tree(supporting_files, 2)"
   ]
  },
  {
   "cell_type": "code",
   "execution_count": 13,
   "id": "3a80c682",
   "metadata": {},
   "outputs": [
    {
     "data": {
      "text/plain": [
       "['data']"
      ]
     },
     "execution_count": 13,
     "metadata": {},
     "output_type": "execute_result"
    }
   ],
   "source": [
    "files = [file.name for file in Path(supporting_files).iterdir()]\n",
    "files"
   ]
  },
  {
   "cell_type": "markdown",
   "id": "5a1bb751",
   "metadata": {},
   "source": [
    "# Loading environment files"
   ]
  },
  {
   "cell_type": "code",
   "execution_count": 1,
   "id": "65194b82",
   "metadata": {},
   "outputs": [
    {
     "data": {
      "text/plain": [
       "True"
      ]
     },
     "execution_count": 1,
     "metadata": {},
     "output_type": "execute_result"
    }
   ],
   "source": [
    "import os\n",
    "from dotenv import load_dotenv\n",
    "from pathlib import Path\n",
    "\n",
    "# Determine the base directory relative to the file's path or current working directory\n",
    "current_dir = Path(__file__).resolve().parent if '__file__' in locals() else Path.cwd()\n",
    "\n",
    "# Adjust the path to point to the supporting_files/data/.env file\n",
    "env_file_path = os.path.join(current_dir.parents[1], \"00-supporting-files\", \"data\", \".env\")\n",
    "load_dotenv(env_file_path)"
   ]
  },
  {
   "cell_type": "markdown",
   "id": "0f25b0d6",
   "metadata": {},
   "source": [
    "## Using AzureOpenAI"
   ]
  },
  {
   "cell_type": "code",
   "execution_count": 2,
   "id": "06246b48",
   "metadata": {},
   "outputs": [
    {
     "data": {
      "text/plain": [
       "'$INSERT_ENDPOINT'"
      ]
     },
     "execution_count": 2,
     "metadata": {},
     "output_type": "execute_result"
    }
   ],
   "source": [
    "os.environ[\"AZURE_OPENAI_ENDPOINT\"]"
   ]
  },
  {
   "cell_type": "code",
   "execution_count": 2,
   "id": "345b0adf",
   "metadata": {},
   "outputs": [],
   "source": [
    "from openai import OpenAI, AzureOpenAI\n",
    "client =  AzureOpenAI(\n",
    "        api_key=os.getenv(\"AZURE_OPENAI_API_KEY\"),\n",
    "        azure_endpoint=os.getenv(\"AZURE_OPENAI_ENDPOINT\"),\n",
    "        api_version=\"2024-08-01-preview\"\n",
    ")"
   ]
  },
  {
   "cell_type": "code",
   "execution_count": null,
   "id": "418c35d9",
   "metadata": {},
   "outputs": [
    {
     "name": "stdout",
     "output_type": "stream",
     "text": [
      "In silicon lanes, data streams fly,  \n",
      "As GPUs crunch numbers up high.  \n",
      "With parallel grace,  \n",
      "They conquer the race,  \n",
      "Unlocking the secrets, oh my!\n"
     ]
    }
   ],
   "source": [
    "completion = client.chat.completions.create(\n",
    "    model=\"gpt-4o-mini\",\n",
    "    messages=[\n",
    "        {\"role\": \"system\", \"content\": \"You are a helpful assistant.\"},\n",
    "        {\"role\": \"user\", \"content\": \"Write a limerick about the wonders of GPU computing.\"}\n",
    "    ]\n",
    ")\n",
    "print(completion.choices[0].message.content.strip())"
   ]
  },
  {
   "cell_type": "markdown",
   "id": "efdc2d42",
   "metadata": {},
   "source": [
    "## Using NVIDIA NIMs"
   ]
  },
  {
   "cell_type": "code",
   "execution_count": 2,
   "id": "7d880ff4",
   "metadata": {},
   "outputs": [
    {
     "data": {
      "text/plain": [
       "'https://integrate.api.nvidia.com/v1'"
      ]
     },
     "execution_count": 2,
     "metadata": {},
     "output_type": "execute_result"
    }
   ],
   "source": [
    "os.environ[\"NIMS_BASE_URL\"]"
   ]
  },
  {
   "cell_type": "code",
   "execution_count": null,
   "id": "1d7b91a0",
   "metadata": {},
   "outputs": [
    {
     "name": "stdout",
     "output_type": "stream",
     "text": [
      "There once was a GPU so fine,\n",
      "Whose computing powers did shine.\n",
      "It processed with speed,\n",
      "And its cores did proceed,\n",
      "To crunch numbers in a divine design."
     ]
    }
   ],
   "source": [
    "from openai import OpenAI\n",
    "\n",
    "client = OpenAI(\n",
    "  base_url = os.environ[\"NIMS_BASE_URL\"],\n",
    "  api_key = os.environ[\"NIMS_API_KEY\"]\n",
    ")\n",
    "\n",
    "completion = client.chat.completions.create(\n",
    "  model=\"meta/llama-3.3-70b-instruct\",\n",
    "  messages=[\n",
    "    {\"role\": \"system\", \"content\": \"You are a helpful assistant.\"},\n",
    "    {\"role\": \"user\", \"content\": \"Write a limerick about the wonders of GPU computing.\"}\n",
    "  ],\n",
    "  temperature=0.2,\n",
    "  top_p=0.7,\n",
    "  max_tokens=1024,\n",
    "  stream=True\n",
    ")\n",
    "\n",
    "for chunk in completion:\n",
    "  if chunk.choices[0].delta.content is not None:\n",
    "    print(chunk.choices[0].delta.content, end=\"\")\n",
    "\n"
   ]
  },
  {
   "cell_type": "markdown",
   "id": "e68048dd",
   "metadata": {},
   "source": [
    "# Using Structured Outputs With Pydantic and Local LLMs"
   ]
  },
  {
   "cell_type": "code",
   "execution_count": 1,
   "id": "e1c9d837",
   "metadata": {},
   "outputs": [],
   "source": [
    "from pydantic import BaseModel, Field\n",
    "from typing import List, Dict, Optional\n",
    "\n",
    "class PoeticResponse(BaseModel):\n",
    "    User_Instruction: str = Field(..., description=\"the subject of the user's instruction\")\n",
    "    Poem: str = Field(..., description=\"the poem version for a given user's instruction\")\n",
    "    Limerick: str = Field(..., description=\"the limerick version for a user's instruction\")\n",
    "    Rap_Lyric: str = Field(..., description=\"the rap version for a user's instruction\")\n",
    "\n",
    "class PoeticResponses(BaseModel):\n",
    "    responses: List[PoeticResponse] = Field(..., description=\"list of poetic responses if user asks for more than one\")\n"
   ]
  },
  {
   "cell_type": "code",
   "execution_count": 5,
   "id": "ada851aa",
   "metadata": {},
   "outputs": [],
   "source": [
    "from openai import OpenAI\n",
    "client = OpenAI(\n",
    "    base_url = 'http://localhost:11434/v1',\n",
    "    api_key='ollama', # required, but unused\n",
    ")\n"
   ]
  },
  {
   "cell_type": "code",
   "execution_count": 18,
   "id": "16c279d7",
   "metadata": {},
   "outputs": [
    {
     "data": {
      "text/plain": [
       "PoeticResponses(responses=[PoeticResponse(User_Instruction='Write about the wonders of GPU computing.', Poem=\"Within silicon hearts, a million threads ignite, \\nNo longer bound by CPU's single might. \\nThe GPU awakes, a parallel dream, \\nWhere tasks divide and conquer, it would seem. \\nFrom rendering worlds to learning AI's art,\\nGPU computing sets the future apart.\", Limerick='There once was a GPU so grand, \\nIt crunched numbers across the land. \\nWith threads in a throng, \\nIt made calculations strong, \\nAnd left CPUs feeling quite unmanned.', Rap_Lyric=\"Yo, check it, the GPU's on fire, \\nParallel processing, takin' it higher. \\nMillions of cores, a computational beast,\\nLeavin' CPUs in the dust, at least. \\nFrom games to science, it's makin' waves,\\nThe future is here, no time for caves.\"), PoeticResponse(User_Instruction='Write about the wonders of GPU computing.', Poem=\"A symphony of silicon, a chorus bright,\\nGPU's dance with data, day and night. \\nEach core a dancer, swift and keen,\\nWeaving magic where pixels convene. \\nFrom virtual realms to insights deep,\\nGPU's power, secrets they keep.\", Limerick='A scientist with a GPU so bold, \\nSolved problems that were ages old. \\nWith parallel might, \\nHe conquered the night, \\nAnd stories of his triumph were told.', Rap_Lyric=\"Yo, the GPU's a game changer, for real,\\nBreakin' down barriers, makin' things surreal. \\nMachine learning, AI on the rise,\\nGPU's fuelin' the future, openin' our eyes.\"), PoeticResponse(User_Instruction='Write about the wonders of GPU computing.', Poem=\"A thousand suns within a chip reside,\\nGPU's brilliance, nowhere to hide. \\nFrom rendering skies to training minds,\\nIts power expands, leaving none behind. \\nA revolution in code and design,\\nGPU's magic, forever entwined.\", Limerick='There once was a GPU so bright, \\nIt illuminated the darkest night. \\nWith shaders ablaze, \\nIt rendered in a daze, \\nA visual feast, a wondrous sight.', Rap_Lyric=\"Yo, the GPU's a beast, no doubt,\\nCrushin' workloads, inside and out. \\nFrom graphics to simulations so grand,\\nGPU's takin' over, across the land.\"), PoeticResponse(User_Instruction='Write about the wonders of GPU computing.', Poem=\"A tapestry woven with threads of light,\\nGPU's artistry, a wondrous sight. \\nFrom pixels to polygons, it takes flight,\\nCreating worlds both dark and bright. \\nA symphony of colors, bold and free,\\nGPU's magic, for all to see.\", Limerick='A gamer with a GPU so fast,\\nCould conquer any level, built to last. \\nWith frames per second high,\\nHe soared through the sky,\\nAnd left his opponents in the past.', Rap_Lyric=\"Yo, the GPU's a game changer, for sure,\\nPushin' boundaries, what we can endure. \\nFrom virtual reality to simulations deep,\\nGPU's takin' us places, where dreams can leap.\"), PoeticResponse(User_Instruction='Write about the wonders of GPU computing.', Poem=\"A lightning bolt of speed, a digital spark,\\nGPU's power ignites, leaving its mark. \\nFrom scientific breakthroughs to artistic flair,\\nIts potential boundless, beyond compare. \\nA revolution in progress, day by day,\\nGPU's wonders illuminate the way.\", Limerick='There once was a GPU so grand,\\nIt solved problems across the land. \\nWith parallel might,\\nIt made everything right,\\nAnd left CPUs feeling quite unmanned.', Rap_Lyric=\"Yo, the GPU's on fire, no doubt,\\nBreakin' down barriers, what we can shout. \\nFrom deep learning to graphics so fine,\\nGPU's takin' us places, one line at a time.\")])"
      ]
     },
     "execution_count": 18,
     "metadata": {},
     "output_type": "execute_result"
    }
   ],
   "source": [
    "json_completion = client.beta.chat.completions.parse(\n",
    "    model=\"gemma2:9b-instruct-q8_0\",\n",
    "\n",
    "    response_format= PoeticResponses,\n",
    "    messages=[\n",
    "        {\"role\": \"system\", \"content\": \"You are a helpful assistant.\"},\n",
    "        {\"role\": \"user\", \"content\": \"Write about the wonders of GPU computing. Give 5 different versions\"}\n",
    "    ],\n",
    "    temperature=0.02,\n",
    "    )\n",
    "PoeticResponses.model_validate(json_completion.choices[0].message.parsed)"
   ]
  },
  {
   "cell_type": "code",
   "execution_count": 19,
   "id": "d7824d7a",
   "metadata": {},
   "outputs": [
    {
     "data": {
      "text/plain": [
       "{'responses': [{'User_Instruction': 'Write about the wonders of GPU computing.',\n",
       "   'Poem': \"Within silicon hearts, a million threads ignite, \\nNo longer bound by CPU's single might. \\nThe GPU awakes, a parallel dream, \\nWhere tasks divide and conquer, it would seem. \\nFrom rendering worlds to learning AI's art,\\nGPU computing sets the future apart.\",\n",
       "   'Limerick': 'There once was a GPU so grand, \\nIt crunched numbers across the land. \\nWith threads in a throng, \\nIt made calculations strong, \\nAnd left CPUs feeling quite unmanned.',\n",
       "   'Rap_Lyric': \"Yo, check it, the GPU's on fire, \\nParallel processing, takin' it higher. \\nMillions of cores, a computational beast,\\nLeavin' CPUs in the dust, at least. \\nFrom games to science, it's makin' waves,\\nThe future is here, no time for caves.\"},\n",
       "  {'User_Instruction': 'Write about the wonders of GPU computing.',\n",
       "   'Poem': \"A symphony of silicon, a chorus bright,\\nGPU's dance with data, day and night. \\nEach core a dancer, swift and keen,\\nWeaving magic where pixels convene. \\nFrom virtual realms to insights deep,\\nGPU's power, secrets they keep.\",\n",
       "   'Limerick': 'A scientist with a GPU so bold, \\nSolved problems that were ages old. \\nWith parallel might, \\nHe conquered the night, \\nAnd stories of his triumph were told.',\n",
       "   'Rap_Lyric': \"Yo, the GPU's a game changer, for real,\\nBreakin' down barriers, makin' things surreal. \\nMachine learning, AI on the rise,\\nGPU's fuelin' the future, openin' our eyes.\"},\n",
       "  {'User_Instruction': 'Write about the wonders of GPU computing.',\n",
       "   'Poem': \"A thousand suns within a chip reside,\\nGPU's brilliance, nowhere to hide. \\nFrom rendering skies to training minds,\\nIts power expands, leaving none behind. \\nA revolution in code and design,\\nGPU's magic, forever entwined.\",\n",
       "   'Limerick': 'There once was a GPU so bright, \\nIt illuminated the darkest night. \\nWith shaders ablaze, \\nIt rendered in a daze, \\nA visual feast, a wondrous sight.',\n",
       "   'Rap_Lyric': \"Yo, the GPU's a beast, no doubt,\\nCrushin' workloads, inside and out. \\nFrom graphics to simulations so grand,\\nGPU's takin' over, across the land.\"},\n",
       "  {'User_Instruction': 'Write about the wonders of GPU computing.',\n",
       "   'Poem': \"A tapestry woven with threads of light,\\nGPU's artistry, a wondrous sight. \\nFrom pixels to polygons, it takes flight,\\nCreating worlds both dark and bright. \\nA symphony of colors, bold and free,\\nGPU's magic, for all to see.\",\n",
       "   'Limerick': 'A gamer with a GPU so fast,\\nCould conquer any level, built to last. \\nWith frames per second high,\\nHe soared through the sky,\\nAnd left his opponents in the past.',\n",
       "   'Rap_Lyric': \"Yo, the GPU's a game changer, for sure,\\nPushin' boundaries, what we can endure. \\nFrom virtual reality to simulations deep,\\nGPU's takin' us places, where dreams can leap.\"},\n",
       "  {'User_Instruction': 'Write about the wonders of GPU computing.',\n",
       "   'Poem': \"A lightning bolt of speed, a digital spark,\\nGPU's power ignites, leaving its mark. \\nFrom scientific breakthroughs to artistic flair,\\nIts potential boundless, beyond compare. \\nA revolution in progress, day by day,\\nGPU's wonders illuminate the way.\",\n",
       "   'Limerick': 'There once was a GPU so grand,\\nIt solved problems across the land. \\nWith parallel might,\\nIt made everything right,\\nAnd left CPUs feeling quite unmanned.',\n",
       "   'Rap_Lyric': \"Yo, the GPU's on fire, no doubt,\\nBreakin' down barriers, what we can shout. \\nFrom deep learning to graphics so fine,\\nGPU's takin' us places, one line at a time.\"}]}"
      ]
     },
     "execution_count": 19,
     "metadata": {},
     "output_type": "execute_result"
    }
   ],
   "source": [
    "json_completion.choices[0].message.parsed.model_dump()"
   ]
  }
 ],
 "metadata": {
  "kernelspec": {
   "display_name": "template-repo",
   "language": "python",
   "name": "python3"
  },
  "language_info": {
   "codemirror_mode": {
    "name": "ipython",
    "version": 3
   },
   "file_extension": ".py",
   "mimetype": "text/x-python",
   "name": "python",
   "nbconvert_exporter": "python",
   "pygments_lexer": "ipython3",
   "version": "3.13.0"
  }
 },
 "nbformat": 4,
 "nbformat_minor": 5
}
